{
 "cells": [
  {
   "cell_type": "code",
   "execution_count": 1,
   "id": "eea839a8",
   "metadata": {},
   "outputs": [
    {
     "name": "stdout",
     "output_type": "stream",
     "text": [
      "[INFO] Starting webcam... Press 'q' to quit.\n"
     ]
    }
   ],
   "source": [
    "import cv2\n",
    "import mediapipe as mp\n",
    "import numpy as np\n",
    "import joblib\n",
    "\n",
    "# Load model, label encoder, and scaler\n",
    "model = joblib.load('mlp_emotion_model_balanced.pkl')\n",
    "label_encoder = joblib.load('label_encoder2.pkl')\n",
    "scaler = joblib.load('scaler.pkl')\n",
    "\n",
    "# Initialize MediaPipe FaceMesh\n",
    "mp_face_mesh = mp.solutions.face_mesh\n",
    "face_mesh = mp_face_mesh.FaceMesh(static_image_mode=False, max_num_faces=1)\n",
    "\n",
    "# Open webcam (use 0 or 1 depending on your device)\n",
    "cap = cv2.VideoCapture(1)\n",
    "\n",
    "print(\"[INFO] Starting webcam... Press 'q' to quit.\")\n",
    "\n",
    "while cap.isOpened():\n",
    "    ret, frame = cap.read()\n",
    "    if not ret:\n",
    "        break\n",
    "\n",
    "    img_rgb = cv2.cvtColor(frame, cv2.COLOR_BGR2RGB)\n",
    "    results = face_mesh.process(img_rgb)\n",
    "\n",
    "    if results.multi_face_landmarks:\n",
    "        for landmarks in results.multi_face_landmarks:\n",
    "            coords = [coord for lm in landmarks.landmark for coord in (lm.x, lm.y)]\n",
    "            coords_np = np.array(coords).reshape(1, -1)\n",
    "\n",
    "            # Scale input\n",
    "            coords_scaled = scaler.transform(coords_np)\n",
    "\n",
    "            # Predict\n",
    "            pred_encoded = model.predict(coords_scaled)[0]\n",
    "            pred_label = label_encoder.inverse_transform([pred_encoded])[0]\n",
    "\n",
    "            # Draw result\n",
    "            h, w, _ = frame.shape\n",
    "            cx_min = int(min([lm.x for lm in landmarks.landmark]) * w)\n",
    "            cy_min = int(min([lm.y for lm in landmarks.landmark]) * h)\n",
    "\n",
    "            cv2.putText(frame, pred_label, (cx_min, cy_min - 10),\n",
    "                        cv2.FONT_HERSHEY_SIMPLEX, 1, (0, 255, 0), 2)\n",
    "\n",
    "            # Draw landmarks\n",
    "            for lm in landmarks.landmark:\n",
    "                cx, cy = int(lm.x * w), int(lm.y * h)\n",
    "                cv2.circle(frame, (cx, cy), 1, (255, 0, 0), -1)\n",
    "\n",
    "    cv2.imshow('Real-Time Emotion Detection (MLP)', frame)\n",
    "\n",
    "    if cv2.waitKey(1) & 0xFF == ord('q'):\n",
    "        break\n",
    "\n",
    "# Release resources\n",
    "cap.release()\n",
    "cv2.destroyAllWindows()\n"
   ]
  }
 ],
 "metadata": {
  "kernelspec": {
   "display_name": ".venv",
   "language": "python",
   "name": "python3"
  },
  "language_info": {
   "codemirror_mode": {
    "name": "ipython",
    "version": 3
   },
   "file_extension": ".py",
   "mimetype": "text/x-python",
   "name": "python",
   "nbconvert_exporter": "python",
   "pygments_lexer": "ipython3",
   "version": "3.12.6"
  }
 },
 "nbformat": 4,
 "nbformat_minor": 5
}
